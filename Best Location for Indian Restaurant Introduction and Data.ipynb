{
 "cells": [
  {
   "cell_type": "markdown",
   "id": "5bae9a80-64a2-419f-8073-10a77b233a6b",
   "metadata": {},
   "source": [
    "# Best Location for Indian Restaurant in Toronto"
   ]
  },
  {
   "cell_type": "markdown",
   "id": "169428f4-df0a-4aae-86c7-6370de4bd685",
   "metadata": {},
   "source": [
    "### Table of Contents"
   ]
  },
  {
   "cell_type": "markdown",
   "id": "92987095-e2f3-4e1d-bdfc-5052a617a520",
   "metadata": {},
   "source": [
    "* Introduction\n",
    "* Business Problem\n",
    "* Data Acquisition and Preparation\n",
    "\n"
   ]
  },
  {
   "cell_type": "markdown",
   "id": "9de81db4-5df6-4d01-a296-aeeb2fbd901a",
   "metadata": {},
   "source": [
    "## Introduction"
   ]
  },
  {
   "cell_type": "markdown",
   "id": "5f7415ca-800f-46ae-b39d-d16b810b7eaf",
   "metadata": {},
   "source": [
    "Toronto is Canada's largest city and a world leader in such areas as business, finance, technology, entertainment and culture. Its large population of immigrants from all over the globe has also made Toronto one of the most multicultural cities in the world.It is the most populous city in Canada and the country’s financial and commercial centre.\n",
    "\n",
    "While opening a restaurant can be a very lucrative business, a lack of demand or over saturation causes many restaurants to close within the first year of opening. There are many different factors that can account for a restaurant’s success such as location, competition and quality of the food. This is an important question that every business owner must face while choosing whether to open a restaurant or not? or which location is suitable for the business?\n",
    "\n",
    "In this project will try to find an optimal location to open an Indian restaurant. Specifically, this report will be targeted to stakeholders interested in opening an Indian Restaurant in Toronto. Finding a suitable location for Indian restaurants in major cities like Toronto proves to be a daunting task.Hence, customers can bolster their decisions using the descriptive and predictive capabilities of data science.\n",
    "\n",
    "We need to find locations(Neighborhood) that have a potentially unfulfilled demand for Indian Restaurant. Also, we need locations that have low competition and are not already crowded. We would also prefer location as close to popular city Neighborhood, assuming the first two conditions are met.\n",
    "\n",
    "We will use our data science knowledge to generate a few most promising neighborhoods based on this criteria. Advantages of each area will then be clearly expressed so that best final location can be chosen by stakeholders.\n",
    "\n",
    "\n"
   ]
  },
  {
   "cell_type": "markdown",
   "id": "3e395ec2-87bd-4930-942a-a444562c42e2",
   "metadata": {},
   "source": [
    "## Business Problem"
   ]
  },
  {
   "cell_type": "markdown",
   "id": "65a17cc5-bd3b-4051-a105-d43732587b2f",
   "metadata": {},
   "source": [
    "The objective of this project is to analyze and select the best locations in Toronto to open a new Indian restaurant. \n",
    "Using data science methodology and machine learning techniques like clustering, this project aims to provide solutions to answer the business question: In the city of Toronto, if someone is looking to open a new Indian restaurant, where would you recommend that they open it?"
   ]
  },
  {
   "cell_type": "markdown",
   "id": "80fbec0a-ff7a-4bf8-88b1-ad942a40df99",
   "metadata": {},
   "source": [
    "## Data Acquisition and Preparation"
   ]
  },
  {
   "cell_type": "markdown",
   "id": "0e23e779-ab59-401e-b3e9-8c1e62fbff1a",
   "metadata": {},
   "source": [
    "#### Based on definition of our problem, factors that will influence our decision are:\n",
    "\n",
    "* Number of existing restaurants in the neighborhood (any type of restaurant)\n",
    "* Number of and distance to Indian restaurants in the neighborhood.\n",
    "* Distance of neighborhood from popular neighborhoods.\n",
    "\n",
    "#### In our project we will:\n",
    "\n",
    "* Acquire the names and boroughs of the neighborhoods by scrapping a wikipedia page.\n",
    "* Next, we use the foursquare API to find all types of restaurants within a 1000 meter radius for every neighborhood.\n",
    "\n",
    "Firstly, we need to get the list of neighborhoods in the city of Toronto. \n",
    "The list is available in the Wikipedia page (https://en.wikipedia.org/wiki/List_of_postal_codes_of_Canada:_M'). We will use web scraping with Python requests and the beautifulsoup package to extract a list of the neighborhood’s data.We need to get the geographical coordinates in the form of latitude and longitude in order to be able to use Foursquare API. To do so, we will use the Geocoder package that will allow us to convert address into geographical coordinates in the form of latitude and longitude. After gathering the data, we will populate the data into a pandas DataFrame and then visualize the neighborhoods on a map using the Folium package. This allows us to perform a stare and compare to make sure that the geographical coordinates returned by the Geocoder package are correctly plotted in the city of Toronto.\n",
    "\n",
    "Next, we will use Foursquare API to get the top 100 venues that are within a radius of 500 meters. We need to register a Foursquare Developer Account in order to obtain the Foursquare ID and Foursquare secret key. We then make API calls to Foursquare passing in the geographical coordinates of the neighborhoods in a Python loop. Foursquare will return the venue data in JSON format and we will extract the venue name, venue category, venue latitude and longitude. With the data, we can validate how many venues were returned for each neighborhood and examine how many unique categories can be created from all the returned venues. Then, we will analyze each neighborhood by grouping the rows by neighborhood and taking the mean of the frequency of occurrence of each venue category. By doing so, we are also preparing the data for use in clustering. Since we are analyzing the “Indian Restaurant” data, we will filter the “Indian Restaurant” as a venue category for the neighborhoods.\n",
    "\n",
    "Lastly, we will perform clustering on the data by using k-means clustering. K-means clustering algorithm identifies k number of centroids, and then allocates every data point to the nearest cluster, while keeping the centroids as small as possible. It is one of the simplest and most popular unsupervised machine learning algorithms and is particularly suited to solve the problem for this project. We will cluster the neighborhoods into 5 clusters based on their frequency of occurrence for “Indian Restaurant”. The results will allow us to identify which neighborhoods have higher concentration of Indian Restaurants while which neighborhoods have fewer number of Indian Restaurants.\n",
    "\n",
    "Based on the occurrence of Indian Restaurants in different neighborhoods, it will help us to answer the question as to which neighborhoods are most suitable to open new Indian Restaurants."
   ]
  },
  {
   "cell_type": "code",
   "execution_count": null,
   "id": "a9f286cd-0871-4f0d-bb9d-20e3169f159f",
   "metadata": {},
   "outputs": [],
   "source": []
  }
 ],
 "metadata": {
  "kernelspec": {
   "display_name": "Python",
   "language": "python",
   "name": "conda-env-python-py"
  },
  "language_info": {
   "codemirror_mode": {
    "name": "ipython",
    "version": 3
   },
   "file_extension": ".py",
   "mimetype": "text/x-python",
   "name": "python",
   "nbconvert_exporter": "python",
   "pygments_lexer": "ipython3",
   "version": "3.6.13"
  }
 },
 "nbformat": 4,
 "nbformat_minor": 5
}
