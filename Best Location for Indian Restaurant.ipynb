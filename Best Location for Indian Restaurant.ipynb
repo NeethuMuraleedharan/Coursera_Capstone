{
 "cells": [
  {
   "cell_type": "markdown",
   "id": "da489d1a-2459-444c-8ba1-1aeaa66b78da",
   "metadata": {},
   "source": [
    "<h1 style=\"text-align:center;\"><font size=7>Best Location for Indian Restaurant in Toronto</font></h1>"
   ]
  },
  {
   "cell_type": "code",
   "execution_count": null,
   "id": "79d62e99-bba4-4422-ad8c-889ce40808bf",
   "metadata": {},
   "outputs": [],
   "source": []
  }
 ],
 "metadata": {
  "kernelspec": {
   "display_name": "Python",
   "language": "python",
   "name": "conda-env-python-py"
  },
  "language_info": {
   "codemirror_mode": {
    "name": "ipython",
    "version": 3
   },
   "file_extension": ".py",
   "mimetype": "text/x-python",
   "name": "python",
   "nbconvert_exporter": "python",
   "pygments_lexer": "ipython3",
   "version": "3.6.13"
  }
 },
 "nbformat": 4,
 "nbformat_minor": 5
}
